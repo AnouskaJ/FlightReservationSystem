{
  "nbformat": 4,
  "nbformat_minor": 0,
  "metadata": {
    "colab": {
      "provenance": [],
      "authorship_tag": "ABX9TyPMGg1MdjFOfrlP1Na8hrFl",
      "include_colab_link": true
    },
    "kernelspec": {
      "name": "python3",
      "display_name": "Python 3"
    },
    "language_info": {
      "name": "python"
    }
  },
  "cells": [
    {
      "cell_type": "markdown",
      "metadata": {
        "id": "view-in-github",
        "colab_type": "text"
      },
      "source": [
        "<a href=\"https://colab.research.google.com/github/AnouskaJ/FlightReservationSystem/blob/main/FlightReservationSystem.ipynb\" target=\"_parent\"><img src=\"https://colab.research.google.com/assets/colab-badge.svg\" alt=\"Open In Colab\"/></a>"
      ]
    },
    {
      "cell_type": "code",
      "execution_count": null,
      "metadata": {
        "id": "o792_gN890Nz"
      },
      "outputs": [],
      "source": [
        "%load_ext sql"
      ]
    },
    {
      "cell_type": "code",
      "source": [
        "%%sql\n",
        "sqlite:///FLIGHT.db"
      ],
      "metadata": {
        "colab": {
          "base_uri": "https://localhost:8080/",
          "height": 35
        },
        "id": "hldvmF3A_fRx",
        "outputId": "12f4fcba-0da4-47c0-cf9e-0b06f5de67e7"
      },
      "execution_count": null,
      "outputs": [
        {
          "output_type": "execute_result",
          "data": {
            "text/plain": [
              "'Connected: @FLIGHT.db'"
            ],
            "application/vnd.google.colaboratory.intrinsic+json": {
              "type": "string"
            }
          },
          "metadata": {},
          "execution_count": 2
        }
      ]
    },
    {
      "cell_type": "code",
      "source": [
        "import sqlite3\n",
        " \n",
        "conn = sqlite3.connect('FLIGHT.db')"
      ],
      "metadata": {
        "id": "WdEbnZA2_jn1"
      },
      "execution_count": null,
      "outputs": []
    },
    {
      "cell_type": "code",
      "source": [
        "conn.execute(''' \n",
        "CREATE TABLE FLIGHT_DETAILS(flight_id CHAR(5) NOT NULL PRIMARY KEY, airline VARCHAR(15) from_location VARCHAR(15), to_location VARCHAR(15),\n",
        "capacity INTEGER, departure_time TIME, arrival_time TIME, economy_price FLOAT, business_price FLOAT);''')\n",
        "conn.commit()\n",
        "print(\"FLIGHT_DETAILS Table created.\");"
      ],
      "metadata": {
        "colab": {
          "base_uri": "https://localhost:8080/"
        },
        "id": "62tOHvRJ_uZ6",
        "outputId": "971468e7-e575-4f06-c649-3b82d44a2697"
      },
      "execution_count": null,
      "outputs": [
        {
          "output_type": "stream",
          "name": "stdout",
          "text": [
            "FLIGHT_DETAILS Table created.\n"
          ]
        }
      ]
    },
    {
      "cell_type": "code",
      "source": [
        "conn.execute('''\n",
        "CREATE TABLE AIRPORT_DETAILS(airport_id CHAR(3), aiport_location VARCHAR(15), flight_id CHAR(5), \n",
        "FOREIGN KEY(flight_id) REFERENCES FLIGHT_DETAILS(flight_id) ON DELETE CASCADE ON UPDATE CASCADE, PRIMARY KEY(airport_id, flight_id));''')\n",
        "conn.commit()\n",
        "print(\"AIRPORT_DETAILS Table created.\");"
      ],
      "metadata": {
        "colab": {
          "base_uri": "https://localhost:8080/"
        },
        "id": "s_qK_h_O-S5u",
        "outputId": "0e854273-1b0a-4d06-edf0-8390fbc68764"
      },
      "execution_count": null,
      "outputs": [
        {
          "output_type": "stream",
          "name": "stdout",
          "text": [
            "AIRPORT_DETAILS Table created.\n"
          ]
        }
      ]
    },
    {
      "cell_type": "code",
      "source": [
        "conn.execute('''\n",
        "CREATE TABLE LOGIN_DETAILS(customer_id CHAR(5) NOT NULL PRIMARY KEY, customer_name VARCHAR(25), customer_phone CHAR(10) UNIQUE, customer_password VARCHAR(15));''')\n",
        "conn.commit()\n",
        "print(\"LOGIN_DETAILS Table created.\");"
      ],
      "metadata": {
        "colab": {
          "base_uri": "https://localhost:8080/"
        },
        "id": "bejsJZl1AWvh",
        "outputId": "5450fa77-591d-4588-9c42-45c8adb62d02"
      },
      "execution_count": null,
      "outputs": [
        {
          "output_type": "stream",
          "name": "stdout",
          "text": [
            "LOGIN_DETAILS Table created.\n"
          ]
        }
      ]
    },
    {
      "cell_type": "code",
      "source": [
        "conn.execute('''\n",
        "CREATE TABLE SEATING_DETAILS(seat_type VARCHAR(10) PRIMARY KEY, luggage_limit VARCHAR(5), cancellation_charge FLOAT, meal_provided VARCHAR(5));\n",
        "''')\n",
        "conn.commit()\n",
        "print(\"SEATING_DETAILS Table created.\");"
      ],
      "metadata": {
        "colab": {
          "base_uri": "https://localhost:8080/"
        },
        "id": "TAChiN3rDX2U",
        "outputId": "f6f0655b-e945-4118-9903-da0af00bbef9"
      },
      "execution_count": null,
      "outputs": [
        {
          "output_type": "stream",
          "name": "stdout",
          "text": [
            "SEATING_DETAILS Table created.\n"
          ]
        }
      ]
    },
    {
      "cell_type": "code",
      "source": [
        "conn.execute('''\n",
        "CREATE TABLE BOOKING_DETAILS(booking_id CHAR(5) NOT NULL PRIMARY KEY, booking_date DATE, customer_id CHAR(5), passenger_count INTEGER, \n",
        "flight_id CHAR(5), departure_date DATE, seat_type VARCHAR(10),\n",
        "FOREIGN KEY(customer_id) REFERENCES LOGIN_DETAILS(customer_id) ON DELETE CASCADE ON UPDATE CASCADE,\n",
        "FOREIGN KEY(flight_id) REFERENCES FLIGHT_DETAILS(flight_id) ON DELETE CASCADE ON UPDATE CASCADE\n",
        "FOREIGN KEY(seat_type) REFERENCES SEATING_DETAILS(seat_type) ON DELETE CASCADE ON UPDATE CASCADE);\n",
        "''')\n",
        "conn.commit()\n",
        "print(\"BOOKING_DETAILS Table created.\");"
      ],
      "metadata": {
        "colab": {
          "base_uri": "https://localhost:8080/"
        },
        "id": "6bNJ48h9DBBt",
        "outputId": "2e799368-1837-4119-9385-a9e7bab0a3d2"
      },
      "execution_count": null,
      "outputs": [
        {
          "output_type": "stream",
          "name": "stdout",
          "text": [
            "BOOKING_DETAILS Table created.\n"
          ]
        }
      ]
    },
    {
      "cell_type": "code",
      "source": [
        "conn.execute('''\n",
        "CREATE TABLE PASSENGER_DETAILS(passenger_id CHAR(5) NOT NULL PRIMARY KEY, passenger_name VARCHAR(25), passenger_age INTEGER, customer_id CHAR(5), booking_id CHAR(5), \n",
        "FOREIGN KEY(customer_id) REFERENCES LOGIN_DETAILS(customer_id) ON DELETE CASCADE ON UPDATE CASCADE, FOREIGN KEY(booking_id) REFERENCES BOOKING_DETAILS(booking_id) ON DELETE CASCADE ON UPDATE CASCADE);\n",
        "''')\n",
        "conn.commit()\n",
        "print(\"PASSENGER_DETAILS Table created.\");"
      ],
      "metadata": {
        "colab": {
          "base_uri": "https://localhost:8080/"
        },
        "id": "8Hyd4VmLDKR0",
        "outputId": "6cad48f9-a85d-4c56-e2d1-d90701fb65ec"
      },
      "execution_count": null,
      "outputs": [
        {
          "output_type": "stream",
          "name": "stdout",
          "text": [
            "PASSENGER_DETAILS Table created.\n"
          ]
        }
      ]
    },
    {
      "cell_type": "code",
      "source": [
        "conn.execute('''INSERT INTO FLIGHT_DETAILS VALUES(\"AI001\", \"Air India\", \"Kolkata\", \"Chennai\", 120, \"14:10:00\", \"15:20:00\", 4500.00, 22000.00);''')\n",
        "conn.execute('''INSERT INTO FLIGHT_DETAILS VALUES(\"AI005\", \"Air India\", \"New Delhi\", \"Bengaluru\", 110, \"15:20:00\", \"18:20:00\", 3200.00, 15000.00);''')\n",
        "conn.execute('''INSERT INTO FLIGHT_DETAILS VALUES(\"IN002\", \"Indigo\", \"Kolkata\", \"Mumbai\", 90, \"09:30:00\", \"11:20:00\", 6300.00, 32500.00);''')\n",
        "conn.execute('''INSERT INTO FLIGHT_DETAILS VALUES(\"IN007\", \"Indigo\", \"Lucknow\", \"New Delhi\", 150, \"19:10:00\", \"21:20:00\", 2500.00, 12000.00);''')\n",
        "conn.execute('''INSERT INTO FLIGHT_DETAILS VALUES(\"SJ003\", \"SpiceJet\", \"Chennai\", \"Hyderabad\", 220, \"21:10:00\", \"23:50:00\", 6700.00, 45000.00);''')\n",
        "conn.execute('''INSERT INTO FLIGHT_DETAILS VALUES(\"AA013\", \"Air Asia\", \"Bengaluru\", \"Jaipur\", 80, \"12:10:00\", \"14:25:00\", 2200.00, 11200.00);''')\n",
        "conn.execute('''INSERT INTO FLIGHT_DETAILS VALUES(\"AA008\", \"Air Asia\", \"Mumbai\", \"Chennai\", 250, \"06:10:00\", \"08:50:00\", 3500.00, 16500.00);''')"
      ],
      "metadata": {
        "colab": {
          "base_uri": "https://localhost:8080/"
        },
        "id": "EL8VdJxXGXUP",
        "outputId": "a77de37f-678e-4253-afd2-1331fd955b7e"
      },
      "execution_count": null,
      "outputs": [
        {
          "output_type": "execute_result",
          "data": {
            "text/plain": [
              "<sqlite3.Cursor at 0x7f0280c581f0>"
            ]
          },
          "metadata": {},
          "execution_count": 10
        }
      ]
    },
    {
      "cell_type": "code",
      "source": [
        "conn.execute('''INSERT INTO AIRPORT_DETAILS VALUES(\"B02\", \"Bengaluru\", \"AA013\");''')\n",
        "conn.execute('''INSERT INTO AIRPORT_DETAILS VALUES(\"B02\", \"Bengaluru\", \"AI005\");''')\n",
        "conn.execute('''INSERT INTO AIRPORT_DETAILS VALUES(\"C12\", \"Chennai\", \"AI001\");''')\n",
        "conn.execute('''INSERT INTO AIRPORT_DETAILS VALUES(\"C12\", \"Chennai\", \"SJ003\");''')\n",
        "conn.execute('''INSERT INTO AIRPORT_DETAILS VALUES(\"C12\", \"Chennai\", \"AA008\");''')\n",
        "conn.execute('''INSERT INTO AIRPORT_DETAILS VALUES(\"L07\", \"Lucknow\", \"IN007\");''')\n",
        "conn.execute('''INSERT INTO AIRPORT_DETAILS VALUES(\"M04\", \"Mumbai\", \"IN002\");''')\n",
        "conn.execute('''INSERT INTO AIRPORT_DETAILS VALUES(\"M04\", \"Mumbai\", \"AA008\");''')\n",
        "conn.execute('''INSERT INTO AIRPORT_DETAILS VALUES(\"K11\", \"Kolkata\", \"AI001\");''')\n",
        "conn.execute('''INSERT INTO AIRPORT_DETAILS VALUES(\"K11\", \"Kolkata\", \"IN002\");''')\n",
        "conn.execute('''INSERT INTO AIRPORT_DETAILS VALUES(\"H20\", \"Hyderabad\", \"SJ003\");''')\n",
        "conn.execute('''INSERT INTO AIRPORT_DETAILS VALUES(\"N11\", \"New Delhi\", \"AI005\");''')\n",
        "conn.execute('''INSERT INTO AIRPORT_DETAILS VALUES(\"N11\", \"New Delhi\", \"IN007\");''')\n",
        "conn.execute('''INSERT INTO AIRPORT_DETAILS VALUES(\"J13\", \"Jaipur\", \"AA013\");''')\n"
      ],
      "metadata": {
        "colab": {
          "base_uri": "https://localhost:8080/"
        },
        "id": "meO-Szx1HJWu",
        "outputId": "11d67078-40c1-45ea-bd32-b82c00dc3a97"
      },
      "execution_count": null,
      "outputs": [
        {
          "output_type": "execute_result",
          "data": {
            "text/plain": [
              "<sqlite3.Cursor at 0x7f0280ca9a40>"
            ]
          },
          "metadata": {},
          "execution_count": 11
        }
      ]
    },
    {
      "cell_type": "code",
      "source": [
        "conn.execute('''INSERT INTO LOGIN_DETAILS VALUES(\"AP001\", \"Anouska\", \"9000000002\", \"abc1!\");''')\n",
        "conn.execute('''INSERT INTO LOGIN_DETAILS VALUES(\"AP002\", \"Ajay\", \"9000000021\", \"wow2!\");''')\n",
        "conn.execute('''INSERT INTO LOGIN_DETAILS VALUES(\"AP003\", \"Suchi\", \"9000000023\", \"$324r\");''')\n",
        "conn.execute('''INSERT INTO LOGIN_DETAILS VALUES(\"AP004\", \"Natasha\", \"9000000089\", \"zyd2\");''')\n",
        "conn.execute('''INSERT INTO LOGIN_DETAILS VALUES(\"AP005\", \"Sophia\", \"9000000077\", \"lucky1!\");''')\n",
        "conn.execute('''INSERT INTO LOGIN_DETAILS VALUES(\"AP006\", \"Sanjay\", \"9000000035\", \"colour231\");''')\n",
        "conn.execute('''INSERT INTO LOGIN_DETAILS VALUES(\"AP007\", \"Aman\", \"9000000098\", \"swpe12!\");''')\n"
      ],
      "metadata": {
        "colab": {
          "base_uri": "https://localhost:8080/"
        },
        "id": "N4pP-LrhHgnS",
        "outputId": "daff13e5-d77b-430e-ed17-6f9018559e51"
      },
      "execution_count": null,
      "outputs": [
        {
          "output_type": "execute_result",
          "data": {
            "text/plain": [
              "<sqlite3.Cursor at 0x7f0280c588f0>"
            ]
          },
          "metadata": {},
          "execution_count": 12
        }
      ]
    },
    {
      "cell_type": "code",
      "source": [
        "conn.execute('''INSERT INTO BOOKING_DETAILS VALUES(\"BI001\", \"2022-01-22\", \"AP001\", 2, \"AI005\", \"2022-02-25\", \"Economy\");''')\n",
        "conn.execute('''INSERT INTO BOOKING_DETAILS VALUES(\"BI002\", \"2022-01-20\", \"AP002\", 3, \"IN002\", \"2022-02-18\", \"Business\");''')\n",
        "conn.execute('''INSERT INTO BOOKING_DETAILS VALUES(\"BI003\", \"2022-01-18\", \"AP005\", 1, \"AI005\", \"2022-02-27\", \"Economy\");''')\n",
        "conn.execute('''INSERT INTO BOOKING_DETAILS VALUES(\"BI004\", \"2022-01-30\", \"AP004\", 1, \"AI005\", \"2022-03-25\", \"Economy\");''')\n",
        "conn.execute('''INSERT INTO BOOKING_DETAILS VALUES(\"BI005\", \"2022-02-03\", \"AP003\", 1, \"AI005\", \"2022-02-25\", \"Business\");''')\n"
      ],
      "metadata": {
        "colab": {
          "base_uri": "https://localhost:8080/"
        },
        "id": "r_hBxwLiHxUW",
        "outputId": "2fe41deb-e2da-4a99-d4da-d93e1ba5fda9"
      },
      "execution_count": null,
      "outputs": [
        {
          "output_type": "execute_result",
          "data": {
            "text/plain": [
              "<sqlite3.Cursor at 0x7f0280c58ab0>"
            ]
          },
          "metadata": {},
          "execution_count": 13
        }
      ]
    },
    {
      "cell_type": "code",
      "source": [
        "conn.execute('''INSERT INTO PASSENGER_DETAILS VALUES(\"PI001\", \"Anouska\", 18, \"AP001\", \"BI001\");''')\n",
        "conn.execute('''INSERT INTO PASSENGER_DETAILS VALUES(\"PI002\", \"Vatsal\", 50, \"AP001\", \"BI001\");''')\n",
        "conn.execute('''INSERT INTO PASSENGER_DETAILS VALUES(\"PI003\", \"Ajay\", 24, \"AP002\", \"BI002\");''')\n",
        "conn.execute('''INSERT INTO PASSENGER_DETAILS VALUES(\"PI004\", \"Asha\", 30, \"AP002\", \"BI002\");''')\n",
        "conn.execute('''INSERT INTO PASSENGER_DETAILS VALUES(\"PI005\", \"Ishan\", 25, \"AP002\", \"BI002\");''')\n",
        "conn.execute('''INSERT INTO PASSENGER_DETAILS VALUES(\"PI006\", \"Sophia\", 67, \"AP005\", \"BI003\");''')\n",
        "conn.execute('''INSERT INTO PASSENGER_DETAILS VALUES(\"PI007\", \"Natasha\", 56, \"AP004\", \"BI004\");''')\n",
        "conn.execute('''INSERT INTO PASSENGER_DETAILS VALUES(\"PI008\", \"Suchi\", 25, \"AP003\", \"BI005\");''')\n"
      ],
      "metadata": {
        "colab": {
          "base_uri": "https://localhost:8080/"
        },
        "id": "3SB4_y0vH-Ar",
        "outputId": "d92f2ad2-7e11-4da0-eaf5-3b65bcf6f0ae"
      },
      "execution_count": null,
      "outputs": [
        {
          "output_type": "execute_result",
          "data": {
            "text/plain": [
              "<sqlite3.Cursor at 0x7f0280c58c00>"
            ]
          },
          "metadata": {},
          "execution_count": 14
        }
      ]
    },
    {
      "cell_type": "code",
      "source": [
        "conn.execute('''INSERT INTO SEATING_DETAILS VALUES(\"Business\", \"35kgs\", 1200.00, \"Yes\");''')\n",
        "conn.execute('''INSERT INTO SEATING_DETAILS VALUES(\"Economy\", \"15kgs\", 1500.00, \"No\");''')\n"
      ],
      "metadata": {
        "colab": {
          "base_uri": "https://localhost:8080/"
        },
        "id": "lXArHO_0IVOb",
        "outputId": "ad7e7303-e5da-42e5-814f-32fff1479851"
      },
      "execution_count": null,
      "outputs": [
        {
          "output_type": "execute_result",
          "data": {
            "text/plain": [
              "<sqlite3.Cursor at 0x7f0280c58dc0>"
            ]
          },
          "metadata": {},
          "execution_count": 15
        }
      ]
    },
    {
      "cell_type": "code",
      "source": [
        "print(\"1. Enter values to a table\\n2. View a table\")\n",
        "choice=int(input(\"Enter your choice(1/2): \"))\n",
        "if choice==1:\n",
        "  print('''Which table?\\n1. FLIGHT_DETAILS\\n2. AIRPORT_DETAILS\\n3. LOGIN_DETAILS\n",
        "  4. PASSENGER_DETAILS\\n5. BOOKING_DETAILS\\n6. SEATING_DETAILS\n",
        "  ''')\n",
        "  ch=int(input(\"Enter the table number: \"))\n",
        "  if ch==1:\n",
        "    flight_id=input(\"Enter flight ID: \")\n",
        "    airline=input(\"Enter airline: \")\n",
        "    from_location=input(\"Enter departure city: \")\n",
        "    to_location=input(\"Enter arrival city: \")\n",
        "    capacity=int(input(\"Enter flight capacity: \"))\n",
        "    departure_time=input(\"Enter departure time(HH:MM:SS): \")\n",
        "    arrival_time=input(\"Enter arrival time(HH:MM:SS): \")\n",
        "    economy_price=float(input(\"Enter economy class price: \"))\n",
        "    business_price=float(input(\"Enter business class price: \"))\n",
        "    conn.execute('''INSERT INTO FLIGHT_DETAILS VALUES(?,?,?,?,?,?,?,?,?)''', (flight_id, airline, from_location, to_location, capacity, departure_time, arrival_time, economy_price, business_price))\n",
        "  \n",
        "  elif ch==2:\n",
        "    airport_id=input(\"Enter airport ID: \")\n",
        "    aiport_location=input(\"Enter airport location: \")\n",
        "    flight_id=input(\"Enter flight ID: \")\n",
        "    conn.execute('''INSERT INTO AIRPORT_DETAILS VALUES(?,?,?)''', (airport_id, aiport_location, flight_id))\n",
        "  elif ch==3:\n",
        "    customer_id=input(\"Enter customer ID: \")\n",
        "    customer_name=input(\"Enter customer name: \")\n",
        "\n",
        "    customer_phone=input(\"Enter customer phone number: \")\n",
        "    customer_password=input(\"Enter customer password: \")\n",
        "    conn.execute('''INSERT INTO LOGIN_DETAILS VALUES(?,?,?,?)''', (customer_id, customer_name, customer_phone, customer_password))\n",
        "\n",
        "  elif ch==4:\n",
        "    passenger_id=input(\"Enter passenger ID: \")\n",
        "    passenger_name=input(\"Enter passenger ID: \")\n",
        "    passenger_age=input(\"Enter passenger age: \")\n",
        "    customer_id=input(\"Enter customer ID: \")\n",
        "    booking_id=input(\"Enter booking ID: \")\n",
        "    conn.execute('''INSERT INTO PASSENGER_DETAILS VALUES(?,?,?,?,?)''', (passenger_id, passenger_name, passenger_age, customer_id, booking_id))\n",
        "\n",
        "  elif ch==5:\n",
        "    booking_id=input(\"Enter booking ID: \")\n",
        "    booking_date=input(\"Enter booking date: \")\n",
        "    customer_id=input(\"Enter customer ID: \")\n",
        "    passenger_count=input(\"Enter number of passengers: \")\n",
        "    flight_id=input(\"Enter flight ID: \")\n",
        "    departure_date=input(\"Enter departure date(YYYY-MM-DD): \")\n",
        "    seat_type=input(\"Enter seat type(Economy/Business): \")\n",
        "    meal_provided=input(\"Enter if meal needed: \")\n",
        "    conn.execute('''INSERT INTO BOOKING_DETAILS VALUES(?,?,?,?,?,?,?,?)''', (booking_id, booking_date, customer_id, passenger_count, flight_id, departure_date, seat_type, meal_provided))\n",
        "\n",
        "  elif ch==6:\n",
        "    seat_type=input(\"Enter seat type: \")\n",
        "    luggage_limit=input(\"Enter luggage limit: \")\n",
        "    cancellation_charge=float(input(\"Enter cancellation charge: \"))\n",
        "    meal_type=input(\"Enter flight ID: \")\n",
        "    conn.execute('''INSERT INTO PASSENGER_DETAILS VALUES(?,?,?,?)''', (seat_type, luggage_limit, cancellation_charge, meal_type))\n",
        "\n",
        "  else:\n",
        "    print(\"Invalid Input\")\n",
        "\n",
        "elif choice==2:\n",
        "  print('''Which table?\\n1. FLIGHT_DETAILS\\n2. AIRPORT_DETAILS\\n3. LOGIN_DETAILS\n",
        "  4. PASSENGER_DETAILS\\n5. BOOKING_DETAILS\\n6. SEATING_DETAILS\n",
        "  ''')\n",
        "  ch=int(input(\"Enter the table number: \"))\n",
        "  if ch==1:\n",
        "    cursor= conn.execute(\"SELECT * FROM FLIGHT_DETAILS\")\n",
        "    for row in cursor:\n",
        "      print(row)\n",
        "  elif ch==2:\n",
        "    cursor= conn.execute(\"SELECT * FROM AIRPORT_DETAILS\")\n",
        "    for row in cursor:\n",
        "      print(row)\n",
        "  elif ch==3:\n",
        "    cursor= conn.execute(\"SELECT * FROM LOGIN_DETAILS\")\n",
        "    for row in cursor:\n",
        "      print(row)\n",
        "  elif ch==4:\n",
        "    cursor= conn.execute(\"SELECT * FROM PASSENGER_DETAILS\")\n",
        "    for row in cursor:\n",
        "      print(row)\n",
        "  elif ch==5:\n",
        "    cursor= conn.execute(\"SELECT * FROM BOOKING_DETAILS\")\n",
        "    for row in cursor:\n",
        "      print(row)\n",
        "  elif ch==6:\n",
        "    cursor= conn.execute(\"SELECT * FROM SEATING_DETAILS\")\n",
        "    for row in cursor:\n",
        "      print(row)\n",
        "  else:\n",
        "    print(\"Invalid Input\")\n",
        "else:\n",
        "  print(\"Not a valid CHOICE\")\n"
      ],
      "metadata": {
        "colab": {
          "base_uri": "https://localhost:8080/"
        },
        "id": "nN_oNowKIeNP",
        "outputId": "608396bf-232c-4079-b1b6-07695eaef847"
      },
      "execution_count": null,
      "outputs": [
        {
          "output_type": "stream",
          "name": "stdout",
          "text": [
            "1. Enter values to a table\n",
            "2. View a table\n",
            "Enter your choice(1/2): 2\n",
            "Which table?\n",
            "1. FLIGHT_DETAILS\n",
            "2. AIRPORT_DETAILS\n",
            "3. LOGIN_DETAILS\n",
            "  4. PASSENGER_DETAILS\n",
            "5. BOOKING_DETAILS\n",
            "6. SEATING_DETAILS\n",
            "  \n",
            "Enter the table number: 3\n",
            "('AP001', 'Anouska', '9000000002', 'abc1!')\n",
            "('AP002', 'Ajay', '9000000021', 'wow2!')\n",
            "('AP003', 'Suchi', '9000000023', '$324r')\n",
            "('AP004', 'Natasha', '9000000089', 'zyd2')\n",
            "('AP005', 'Sophia', '9000000077', 'lucky1!')\n",
            "('AP006', 'Sanjay', '9000000035', 'colour231')\n",
            "('AP007', 'Aman', '9000000098', 'swpe12!')\n",
            "('AP008', 'Ajay', '9090000002', 'ajayisthebest')\n"
          ]
        }
      ]
    },
    {
      "cell_type": "code",
      "source": [
        "print(\"View Details of your booking: \")\n",
        "booking_id=input(\"Enter your booking ID: \")\n",
        "cursor=conn.execute(\"\"\"SELECT BOOKING_DETAILS.BOOKING_ID, BOOKING_DETAILS.BOOKING_DATE, BOOKING_DETAILS.CUSTOMER_ID, PASSENGER_DETAILS.PASSENGER_NAME, BOOKING_DETAILS.FLIGHT_ID, BOOKING_DETAILS.DEPARTURE_DATE \n",
        "FROM BOOKING_DETAILS,PASSENGER_DETAILS\n",
        "WHERE BOOKING_DETAILS.BOOKING_ID=?\n",
        "AND BOOKING_DETAILS.BOOKING_ID=PASSENGER_DETAILS.BOOKING_ID\"\"\",(booking_id,))\n",
        "details=(\"Booking ID\", \"Booking Date\", \"Customer ID\", \"Passenger Name\", \"Flight ID\", \"Departure Date\")\n",
        "for row in cursor: \n",
        "  d=dict(zip(details,row))\n",
        "  print(d)"
      ],
      "metadata": {
        "colab": {
          "base_uri": "https://localhost:8080/"
        },
        "id": "5gtrf2a_Uuje",
        "outputId": "88bc3bbb-18b2-44a9-d0e5-2943b29cae9e"
      },
      "execution_count": null,
      "outputs": [
        {
          "output_type": "stream",
          "name": "stdout",
          "text": [
            "View Details of your booking: \n",
            "Enter your booking ID: BI003\n",
            "{'Booking ID': 'BI003', 'Booking Date': '2022-01-18', 'Customer ID': 'AP005', 'Passenger Name': 'Sophia', 'Flight ID': 'AI005', 'Departure Date': '2022-02-27'}\n"
          ]
        }
      ]
    }
  ]
}